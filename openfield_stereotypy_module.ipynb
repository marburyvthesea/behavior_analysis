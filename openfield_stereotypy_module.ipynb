{
 "cells": [
  {
   "cell_type": "code",
   "execution_count": 1,
   "metadata": {},
   "outputs": [
    {
     "data": {
      "text/html": [
       "<style>.container { width:90% !important; }</style>"
      ],
      "text/plain": [
       "<IPython.core.display.HTML object>"
      ]
     },
     "metadata": {},
     "output_type": "display_data"
    }
   ],
   "source": [
    "from IPython.core.display import display, HTML\n",
    "display(HTML(\"<style>.container { width:90% !important; }</style>\"))"
   ]
  },
  {
   "cell_type": "code",
   "execution_count": 2,
   "metadata": {},
   "outputs": [],
   "source": [
    "import os\n",
    "import pandas as pd\n",
    "import numpy as np\n",
    "import sys\n",
    "sys.path.append('/Users/johnmarshall/Documents/Analysis/PythonAnalysisScripts/post_cmfe_analysis')\n",
    "sys.path.append('/Users/johnmarshall/Documents/Analysis/PythonAnalysisScripts/behavior_analysis')\n",
    "import dlc_utils\n",
    "import openfieldstereotypy as ofs\n",
    "from importlib import reload\n",
    "import matplotlib.pyplot as plt\n",
    "import glob"
   ]
  },
  {
   "cell_type": "code",
   "execution_count": 3,
   "metadata": {
    "scrolled": true
   },
   "outputs": [
    {
     "data": {
      "text/plain": [
       "<module 'openfieldstereotypy' from '/Users/johnmarshall/Documents/Analysis/PythonAnalysisScripts/behavior_analysis/openfieldstereotypy.py'>"
      ]
     },
     "execution_count": 3,
     "metadata": {},
     "output_type": "execute_result"
    }
   ],
   "source": [
    "reload(dlc_utils)\n",
    "reload(ofs)"
   ]
  },
  {
   "cell_type": "code",
   "execution_count": 4,
   "metadata": {},
   "outputs": [],
   "source": [
    "dlc_output_dir = '/Volumes/My_Passport/mR5_openfield_data/JX_global_KO/010113A/'\n",
    "analysis_file = '3455DLC_resnet50_mglur5ko_openfieldJun10shuffle1_300000.h5'"
   ]
  },
  {
   "cell_type": "code",
   "execution_count": 5,
   "metadata": {},
   "outputs": [
    {
     "data": {
      "text/plain": [
       "['3455DLC_resnet50_mglur5ko_openfieldJun10shuffle1_300000.h5',\n",
       " '3456DLC_resnet50_mglur5ko_openfieldJun10shuffle1_300000.h5',\n",
       " '3457DLC_resnet50_mglur5ko_openfieldJun10shuffle1_300000.h5',\n",
       " '3458DLC_resnet50_mglur5ko_openfieldJun10shuffle1_300000.h5',\n",
       " '3459DLC_resnet50_mglur5ko_openfieldJun10shuffle1_300000.h5',\n",
       " '3460DLC_resnet50_mglur5ko_openfieldJun10shuffle1_300000.h5',\n",
       " '3461DLC_resnet50_mglur5ko_openfieldJun10shuffle1_300000.h5',\n",
       " '3462DLC_resnet50_mglur5ko_openfieldJun10shuffle1_300000.h5',\n",
       " '3465DLC_resnet50_mglur5ko_openfieldJun10shuffle1_300000.h5',\n",
       " '3466DLC_resnet50_mglur5ko_openfieldJun10shuffle1_300000.h5',\n",
       " '3467bDLC_resnet50_mglur5ko_openfieldJun10shuffle1_300000.h5',\n",
       " '3467DLC_resnet50_mglur5ko_openfieldJun10shuffle1_300000.h5',\n",
       " '3468DLC_resnet50_mglur5ko_openfieldJun10shuffle1_300000.h5',\n",
       " '3469DLC_resnet50_mglur5ko_openfieldJun10shuffle1_300000.h5',\n",
       " '3470DLC_resnet50_mglur5ko_openfieldJun10shuffle1_300000.h5',\n",
       " '3471DLC_resnet50_mglur5ko_openfieldJun10shuffle1_300000.h5',\n",
       " '3472DLC_resnet50_mglur5ko_openfieldJun10shuffle1_300000.h5',\n",
       " '3476DLC_resnet50_mglur5ko_openfieldJun10shuffle1_300000.h5',\n",
       " '3477DLC_resnet50_mglur5ko_openfieldJun10shuffle1_300000.h5',\n",
       " '3478DLC_resnet50_mglur5ko_openfieldJun10shuffle1_300000.h5']"
      ]
     },
     "execution_count": 5,
     "metadata": {},
     "output_type": "execute_result"
    }
   ],
   "source": [
    "os.chdir(dlc_output_dir)\n",
    "glob.glob('*.h5')"
   ]
  },
  {
   "cell_type": "code",
   "execution_count": null,
   "metadata": {},
   "outputs": [
    {
     "name": "stdout",
     "output_type": "stream",
     "text": [
      "3455DLC_resnet50_mglur5ko_openfieldJun10shuffle1_300000.h5\n"
     ]
    },
    {
     "name": "stderr",
     "output_type": "stream",
     "text": [
      "/Users/johnmarshall/anaconda3/envs/jupyter_env/lib/python3.8/site-packages/numpy/core/fromnumeric.py:3334: RuntimeWarning: Mean of empty slice.\n",
      "  return _methods._mean(a, axis=axis, dtype=dtype,\n",
      "/Users/johnmarshall/anaconda3/envs/jupyter_env/lib/python3.8/site-packages/numpy/core/_methods.py:161: RuntimeWarning: invalid value encountered in double_scalars\n",
      "  ret = ret.dtype.type(ret / rcount)\n",
      "/Users/johnmarshall/Documents/Analysis/PythonAnalysisScripts/behavior_analysis/openfieldstereotypy.py:70: RuntimeWarning: invalid value encountered in true_divide\n",
      "  output_df = pd.DataFrame({'straight_line_distances': sl_distances, 'path_distances': path_distances, 'tortuosity': path_distances/sl_distances, 'video_time': time_start})\n"
     ]
    },
    {
     "name": "stdout",
     "output_type": "stream",
     "text": [
      "done\n",
      "3456DLC_resnet50_mglur5ko_openfieldJun10shuffle1_300000.h5\n",
      "done\n",
      "3457DLC_resnet50_mglur5ko_openfieldJun10shuffle1_300000.h5\n",
      "done\n",
      "3458DLC_resnet50_mglur5ko_openfieldJun10shuffle1_300000.h5\n",
      "done\n",
      "3459DLC_resnet50_mglur5ko_openfieldJun10shuffle1_300000.h5\n",
      "done\n",
      "3460DLC_resnet50_mglur5ko_openfieldJun10shuffle1_300000.h5\n",
      "done\n",
      "3461DLC_resnet50_mglur5ko_openfieldJun10shuffle1_300000.h5\n",
      "done\n",
      "3462DLC_resnet50_mglur5ko_openfieldJun10shuffle1_300000.h5\n",
      "done\n",
      "3465DLC_resnet50_mglur5ko_openfieldJun10shuffle1_300000.h5\n",
      "done\n",
      "3466DLC_resnet50_mglur5ko_openfieldJun10shuffle1_300000.h5\n",
      "done\n",
      "3467bDLC_resnet50_mglur5ko_openfieldJun10shuffle1_300000.h5\n",
      "done\n",
      "3467DLC_resnet50_mglur5ko_openfieldJun10shuffle1_300000.h5\n",
      "done\n",
      "3468DLC_resnet50_mglur5ko_openfieldJun10shuffle1_300000.h5\n",
      "done\n",
      "3469DLC_resnet50_mglur5ko_openfieldJun10shuffle1_300000.h5\n",
      "done\n",
      "3470DLC_resnet50_mglur5ko_openfieldJun10shuffle1_300000.h5\n",
      "done\n",
      "3471DLC_resnet50_mglur5ko_openfieldJun10shuffle1_300000.h5\n",
      "done\n",
      "3472DLC_resnet50_mglur5ko_openfieldJun10shuffle1_300000.h5\n"
     ]
    }
   ],
   "source": [
    "for analysis_file in glob.glob('*.h5'):\n",
    "    print(analysis_file)\n",
    "    file_path = dlc_output_dir+analysis_file\n",
    "    dlc_df = pd.read_hdf(file_path)\n",
    "    df_with_centroid = dlc_utils.calculate_centroid(dlc_df)\n",
    "\n",
    "    resting_bin_indicies, resting_bins_time_delta, df_with_centroid, difference_df_time_delta = ofs.create_velocity_df(df_with_centroid)\n",
    "    output_df = ofs.calculate_tortuosity(resting_bin_indicies, resting_bins_time_delta, df_with_centroid, difference_df_time_delta)\n",
    "    output_df.to_csv(dlc_output_dir+analysis_file.rstrip('.h5')+'.csv')\n",
    "    print('done')\n",
    "    "
   ]
  },
  {
   "cell_type": "code",
   "execution_count": null,
   "metadata": {},
   "outputs": [],
   "source": [
    "difference_df = dlc_utils.difference_df(df_with_centroid)\n",
    "\n",
    "velocity_df = pd.DataFrame(np.transpose(np.array([np.array([dlc_utils.velocity(difference_df[body_part]['x'].values[frame],difference_df[body_part]['y'].values[frame]) \n",
    "                                                            for frame in range(len(difference_df))]) for body_part in list(set([df_columns[item][0] \n",
    "                                                            for item in range(len(df_columns))]))])), columns=list(set([df_columns[item][0] for item in range(len(df_columns))]))) \n",
    "difference_df_time_delta = difference_df.set_index(pd.to_timedelta(np.linspace(0, len(difference_df)*(1/4), len(difference_df)), unit='s'), drop=False)\n",
    "#velocity_df = dlc_utils.velocity_df_from_difference_df(difference_df)\n",
    "\n",
    "#need to reset velocity df index to time delta \n",
    "velocity_df = velocity_df.set_index(pd.to_timedelta(np.linspace(0, len(velocity_df)*(1/4), len(velocity_df)), unit='s'), drop=False)\n",
    "\n",
    "df_with_centroid = df_with_centroid.set_index(velocity_df.index)\n",
    "\n",
    "# downsample and interpolate to find pauses between movements\n",
    "interpolated = dlc_utils.downsample_and_interpolate(velocity_df, '.2S', '1S', 'linear')\n",
    "\n",
    "##want to get the regions where the mouse is stopped for some time threshold\n",
    "#use bin by activity threhold function\n",
    "\n",
    "resting_bins = dlc_utils.bin_by_resting_threshold(interpolated['centroid'], 5, 5, 5, 4, 7)\n",
    "\n",
    "resting_bin_indicies = dlc_utils.select_trigger_regions(resting_bins, 0.5, 0.5, 5)\n",
    "resting_bins_time_delta = pd.DataFrame(resting_bins).set_index(interpolated.index, drop=False)"
   ]
  },
  {
   "cell_type": "code",
   "execution_count": null,
   "metadata": {},
   "outputs": [],
   "source": [
    "# iterate over all resting points and add to a larger data frame per mouse \n",
    "\n",
    "sl_distances = np.zeros(len(resting_bin_indicies))\n",
    "path_distances = np.zeros(len(resting_bin_indicies))\n",
    "time_start = []\n",
    "\n",
    "for resting_idx in np.linspace(0, len(resting_bin_indicies)-3, len(resting_bin_indicies)-2):\n",
    "    start_index = df_with_centroid['DLC_resnet50_mglur5ko_openfieldJun10shuffle1_300000']['centroid'].index.get_loc(resting_bins_time_delta.index[resting_bin_indicies[int(resting_idx)]], method='nearest')\n",
    "    end_index = df_with_centroid['DLC_resnet50_mglur5ko_openfieldJun10shuffle1_300000']['centroid'].index.get_loc(resting_bins_time_delta.index[resting_bin_indicies[int(resting_idx)+1]], method='nearest')\n",
    "    sl_distance = np.linalg.norm(np.array(df_with_centroid['DLC_resnet50_mglur5ko_openfieldJun10shuffle1_300000']['centroid'].iloc[start_index]['x'], df_with_centroid['DLC_resnet50_mglur5ko_openfieldJun10shuffle1_300000']['centroid'].iloc[start_index]['y'])-\n",
    "                             np.array(df_with_centroid['DLC_resnet50_mglur5ko_openfieldJun10shuffle1_300000']['centroid'].iloc[end_index]['x'], df_with_centroid['DLC_resnet50_mglur5ko_openfieldJun10shuffle1_300000']['centroid'].iloc[end_index]['y']))\n",
    "    #print(sl_distance)\n",
    "    sl_distances[int(resting_idx)] = sl_distance\n",
    "    point_distances = np.zeros(end_index-start_index)\n",
    "    for point, list_idx in zip(np.linspace(start_index, end_index-1, end_index-start_index), np.linspace(0, end_index-start_index-1, end_index-start_index)):\n",
    "        list_idx=int(list_idx)\n",
    "        #could have a \"noise filter\" here to control for back and forth movement in same place \n",
    "        point_distances[list_idx] = np.linalg.norm(np.array(df_with_centroid['DLC_resnet50_mglur5ko_openfieldJun10shuffle1_300000']['centroid'].iloc[int(point)]['x'], df_with_centroid['DLC_resnet50_mglur5ko_openfieldJun10shuffle1_300000']['centroid'].iloc[int(point)]['y'])-\n",
    "                                    np.array(df_with_centroid['DLC_resnet50_mglur5ko_openfieldJun10shuffle1_300000']['centroid'].iloc[int(point+1)]['x'], df_with_centroid['DLC_resnet50_mglur5ko_openfieldJun10shuffle1_300000']['centroid'].iloc[int(point+1)]['y']))\n",
    "    path_distance = np.sum(point_distances)\n",
    "    #print(path_distance)\n",
    "    path_distances[int(resting_idx)] = path_distance\n",
    "    #print(df_with_centroid.index[resting_idx])\n",
    "    #print(resting_idx)\n",
    "    #time_start[int(resting_idx)] = df_with_centroid['DLC_resnet50_mglur5ko_openfieldJun10shuffle1_300000']['centroid'].index[start_index]\n",
    "    time_start.append(df_with_centroid['DLC_resnet50_mglur5ko_openfieldJun10shuffle1_300000']['centroid'].index[start_index])\n",
    "    #time_start[int(resting_idx)] = df_with_centroid.index[resting_idx]\n",
    "\n",
    "time_start.extend(np.zeros(int(len(path_distances)-len(time_start))))\n",
    "    "
   ]
  },
  {
   "cell_type": "code",
   "execution_count": null,
   "metadata": {
    "scrolled": true
   },
   "outputs": [],
   "source": [
    "pd.DataFrame({'straight_line_distances': sl_distances, 'path_distances': path_distances, 'tortuosity': path_distances/sl_distances, 'video_time': time_start})"
   ]
  },
  {
   "cell_type": "code",
   "execution_count": null,
   "metadata": {},
   "outputs": [],
   "source": []
  }
 ],
 "metadata": {
  "kernelspec": {
   "display_name": "jupyter_env",
   "language": "python",
   "name": "jupyter_env"
  },
  "language_info": {
   "codemirror_mode": {
    "name": "ipython",
    "version": 3
   },
   "file_extension": ".py",
   "mimetype": "text/x-python",
   "name": "python",
   "nbconvert_exporter": "python",
   "pygments_lexer": "ipython3",
   "version": "3.8.1"
  }
 },
 "nbformat": 4,
 "nbformat_minor": 2
}
